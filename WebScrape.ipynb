{
 "cells": [
  {
   "cell_type": "code",
   "execution_count": 2,
   "metadata": {},
   "outputs": [],
   "source": []
  },
  {
   "cell_type": "code",
   "execution_count": 5,
   "metadata": {},
   "outputs": [
    {
     "name": "stdout",
     "output_type": "stream",
     "text": [
      "<!DOCTYPE html PUBLIC \"-//W3C//DTD XHTML 1.0 Transitional//EN\" \"http://www.w3.org/TR/xhtml1/DTD/xhtml1-transitional.dtd\">\n",
      "<html lang=\"en\" xmlns=\"http://www.w3.org/1999/xhtml\">\n",
      " <head>\n",
      "  <meta content=\"text/html; charset=utf-8\" http-equiv=\"Content-Type\"/>\n",
      "  <title>\n",
      "   Remote Authentication - Baruch College - The City University of New York (CUNY)\n",
      "  </title>\n",
      "  <meta content=\"Baruch College is one of ten senior colleges of The City University of New York (CUNY), the largest urban public university in the United States.\" name=\"Description\"/>\n",
      "  <meta content=\"baruch college, new york, business school, zicklin, applying to baruch, academic programs, electronic campus, learning net, about baruch, cuny, news, weissman, public affairs\" name=\"Keywords\"/>\n",
      "  <meta content=\"height=device-height,width=device-width,initial-scale=1.0,user-scalable=no\" name=\"viewport\"/>\n",
      "  <style type=\"text/css\">\n",
      "   #main {margin:0 auto; width: 90%; text-align:center; font-family: Arial, Helvetica, sans-serif;}\n",
      "h1, h2, h3 {color: #225391;}\n",
      "#main h1 {font-size: 1.6em;}\n",
      "#main h3 {border-bottom: dotted 1px #225391; padding-bottom: 5px; border-top: dotted 1px #225391; padding-top: 5px; }\n",
      "#main #login {width: 125px; height: auto; font-size: 17px; margin-bottom: 20px;}\n",
      "#main label {font-weight:bold;}\n",
      ".login-help {width: 50%; margin: 0 auto;}\n",
      ".login-help p {padding: 10px;}\n",
      "\n",
      "@media screen and (max-width:500px){\n",
      "  .login-help {width: 100%;}\n",
      "}\n",
      "  </style>\n",
      "  <!-- Google Tag Manager for NL -->\n",
      "  <script>\n",
      "   (function(w,d,s,l,i){w[l]=w[l]||[];w[l].push({'gtm.start':\n",
      "new Date().getTime(),event:'gtm.js'});var f=d.getElementsByTagName(s)[0],\n",
      "j=d.createElement(s),dl=l!='dataLayer'?'&l='+l:'';j.async=true;j.src=\n",
      "'https://www.googletagmanager.com/gtm.js?id='+i+dl;f.parentNode.insertBefore(j,f);\n",
      "})(window,document,'script','dataLayer','GTM-M4M8CFF');\n",
      "  </script>\n",
      "  <!-- End Google Tag Manager -->\n",
      " </head>\n",
      " <body>\n",
      "  <div id=\"main\">\n",
      "   <img alt=\"Baruch College Logo\" height=\"49\" src=\"https://www.baruch.cuny.edu/images/proxy/logo.gif\" width=\"288\"/>\n",
      "   <h1>\n",
      "    The content you have requested requires a Baruch College login.\n",
      "   </h1>\n",
      "   <p>\n",
      "    Please enter your Baruch username and password.\n",
      "   </p>\n",
      "   <form action=\"/login\" method=\"post\" name=\"remote\">\n",
      "    <input name=\"url\" type=\"hidden\" value=\"http://www.baruch.cuny.edu/ote/evals/evaluations/2017SPRING/CIS.html\"/>\n",
      "    <input name=\"auth\" type=\"hidden\" value=\"student\"/>\n",
      "    <p>\n",
      "     <label for=\"email\">\n",
      "      Baruch Username\n",
      "     </label>\n",
      "     <br/>\n",
      "     <input name=\"user\" size=\"18\" type=\"text\"/>\n",
      "    </p>\n",
      "    <p>\n",
      "     <label for=\"pass\">\n",
      "      Baruch Password\n",
      "     </label>\n",
      "     <br/>\n",
      "     <input name=\"pass\" size=\"18\" type=\"password\"/>\n",
      "    </p>\n",
      "    <p>\n",
      "     <input id=\"login\" type=\"submit\" value=\"Log In\"/>\n",
      "    </p>\n",
      "   </form>\n",
      "   <div class=\"login-help\">\n",
      "    <h2>\n",
      "     <strong>\n",
      "      Unable to log in?\n",
      "     </strong>\n",
      "    </h2>\n",
      "    <h3>\n",
      "     Baruch Students, Faculty, and Staff\n",
      "    </h3>\n",
      "    <p>\n",
      "     Contact the\n",
      "     <a href=\"http://www.baruch.cuny.edu/bctc/helpdesk/\">\n",
      "      BCTC Help Desk\n",
      "     </a>\n",
      "     : (646) 312-1010 or\n",
      "     <a href=\"mailto:helpdesk@baruch.cuny.edu?Subject=Remote access to library resource\">\n",
      "      helpdesk@baruch.cuny.edu\n",
      "     </a>\n",
      "    </p>\n",
      "    <h3>\n",
      "     CUNY SPS (School of Professional Studies) Students and Faculty\n",
      "    </h3>\n",
      "    <p>\n",
      "     Contact the\n",
      "     <a href=\"http://sps.cuny.edu/student_services/help_desk.html\">\n",
      "      SPS Help Desk\n",
      "     </a>\n",
      "     : (646) 664-8592 or\n",
      "     <a href=\"mailto:helpdesk@sps.cuny.edu?Subject=Remote access to library resource\">\n",
      "      helpdesk@sps.cuny.edu\n",
      "     </a>\n",
      "    </p>\n",
      "   </div>\n",
      "  </div>\n",
      "  <script>\n",
      "   (function(i,s,o,g,r,a,m){i['GoogleAnalyticsObject']=r;i[r]=i[r]||function(){\n",
      "  (i[r].q=i[r].q||[]).push(arguments)},i[r].l=1*new Date();a=s.createElement(o),\n",
      "  m=s.getElementsByTagName(o)[0];a.async=1;a.src=g;m.parentNode.insertBefore(a,m)\n",
      "  })(window,document,'script','//www.google-analytics.com/analytics.js','ga');\n",
      "\n",
      "  ga('create', 'UA-28828849-1', {\n",
      "  'cookieDomain': 'cuny.edu'\n",
      "});\n",
      "  ga('send', 'pageview');\n",
      "  </script>\n",
      " </body>\n",
      "</html>\n",
      "\n"
     ]
    }
   ],
   "source": [
    "import requests\n",
    "from bs4 import BeautifulSoup\n",
    "\n",
    "r = requests.get('http://www.baruch.cuny.edu/ote/evals/evaluations/2017SPRING/CIS.html')\n",
    "c = r.text\n",
    "\n",
    "soup = BeautifulSoup(c, 'lxml')\n",
    "#print(c)\n",
    "print(soup.prettify())"
   ]
  },
  {
   "cell_type": "code",
   "execution_count": 2,
   "metadata": {},
   "outputs": [
    {
     "ename": "NameError",
     "evalue": "name 'soup' is not defined",
     "output_type": "error",
     "traceback": [
      "\u001b[1;31m---------------------------------------------------------------------------\u001b[0m",
      "\u001b[1;31mNameError\u001b[0m                                 Traceback (most recent call last)",
      "\u001b[1;32m<ipython-input-2-aec56a531626>\u001b[0m in \u001b[0;36m<module>\u001b[1;34m()\u001b[0m\n\u001b[0;32m      1\u001b[0m \u001b[1;33m\u001b[0m\u001b[0m\n\u001b[1;32m----> 2\u001b[1;33m \u001b[0mx\u001b[0m\u001b[1;33m=\u001b[0m\u001b[0msoup\u001b[0m\u001b[1;33m.\u001b[0m\u001b[0mfind_all\u001b[0m\u001b[1;33m(\u001b[0m\u001b[1;34m\"li\"\u001b[0m\u001b[1;33m)\u001b[0m\u001b[1;33m\u001b[0m\u001b[0m\n\u001b[0m\u001b[0;32m      3\u001b[0m \u001b[1;32mfor\u001b[0m \u001b[0mitem\u001b[0m \u001b[1;32min\u001b[0m \u001b[0mx\u001b[0m\u001b[1;33m:\u001b[0m\u001b[1;33m\u001b[0m\u001b[0m\n\u001b[0;32m      4\u001b[0m     \u001b[1;32mif\u001b[0m \u001b[0mitem\u001b[0m\u001b[1;33m.\u001b[0m\u001b[0ma\u001b[0m\u001b[1;33m!=\u001b[0m \u001b[1;32mNone\u001b[0m\u001b[1;33m:\u001b[0m\u001b[1;33m\u001b[0m\u001b[0m\n\u001b[0;32m      5\u001b[0m         \u001b[0mst\u001b[0m\u001b[1;33m=\u001b[0m\u001b[0mitem\u001b[0m\u001b[1;33m.\u001b[0m\u001b[0ma\u001b[0m\u001b[1;33m.\u001b[0m\u001b[0mget\u001b[0m\u001b[1;33m(\u001b[0m\u001b[1;34m'href'\u001b[0m\u001b[1;33m)\u001b[0m\u001b[1;33m\u001b[0m\u001b[0m\n",
      "\u001b[1;31mNameError\u001b[0m: name 'soup' is not defined"
     ]
    }
   ],
   "source": [
    "x=soup.find_all(\"li\")\n",
    "for item in x:\n",
    "    if item.a!= None:\n",
    "        st=item.a.get('href')\n",
    "        if st!= None:\n",
    "            if 'pdf' in st:\n",
    "                print(item.get_text())\n",
    "    "
   ]
  },
  {
   "cell_type": "code",
   "execution_count": null,
   "metadata": {
    "collapsed": true
   },
   "outputs": [],
   "source": []
  },
  {
   "cell_type": "code",
   "execution_count": null,
   "metadata": {
    "collapsed": true
   },
   "outputs": [],
   "source": []
  }
 ],
 "metadata": {
  "kernelspec": {
   "display_name": "Python 3",
   "language": "python",
   "name": "python3"
  },
  "language_info": {
   "codemirror_mode": {
    "name": "ipython",
    "version": 3
   },
   "file_extension": ".py",
   "mimetype": "text/x-python",
   "name": "python",
   "nbconvert_exporter": "python",
   "pygments_lexer": "ipython3",
   "version": "3.6.1"
  }
 },
 "nbformat": 4,
 "nbformat_minor": 1
}
